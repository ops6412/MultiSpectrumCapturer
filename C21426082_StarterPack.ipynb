{
 "cells": [
  {
   "cell_type": "code",
   "execution_count": null,
   "id": "e32e33df-db92-4829-aa27-0de3fd5ea6f4",
   "metadata": {},
   "outputs": [],
   "source": [
    "\n",
    "\n",
    "import cv2\n",
    "import numpy as np\n",
    "\n",
    "# Load the image called 'googly' (replace with your actual image file path)\n",
    "I = cv2.imread('Googly.jpg')\n",
    "\n",
    "# Check if the image loaded successfully\n",
    "if I is None:\n",
    "    print(\"Error: Image not found or failed to load.\")\n",
    "else:\n",
    "    # Function to draw circles when the user clicks the left mouse button\n",
    "    def draw(event, x, y, flags, param):\n",
    "        if event == cv2.EVENT_LBUTTONDOWN:\n",
    "            # Draw a white circle of radius 5 at the clicked position\n",
    "            cv2.circle(img=I, center=(x, y), radius=10, color=(0, 255, 0), thickness=-1)\n",
    "            cv2.imshow(\"image\", I)  # Update the display with the new circle\n",
    "    \n",
    "    # Create a named window to display the image\n",
    "    cv2.namedWindow(\"image\")\n",
    "\n",
    "    # Set the mouse callback to capture click events\n",
    "    cv2.setMouseCallback(\"image\", draw)\n",
    "\n",
    "    # Display the image and wait for a key press\n",
    "    cv2.imshow(\"image\", I)\n",
    "    key = cv2.waitKey(0)  # Wait indefinitely for a key press\n",
    "\n",
    "    # Close all OpenCV windows\n",
    "    cv2.destroyAllWindows()\n",
    "    cv2.waitKey(1)  # Needed to ensure windows are properly closed\n"
   ]
  },
  {
   "cell_type": "code",
   "execution_count": null,
   "id": "2b0836e7-aabb-4fab-ba05-f2b5b326508d",
   "metadata": {},
   "outputs": [],
   "source": []
  },
  {
   "cell_type": "code",
   "execution_count": null,
   "id": "99e62bb8-8fcb-4024-8ab5-d04324e46ef0",
   "metadata": {},
   "outputs": [],
   "source": []
  },
  {
   "cell_type": "code",
   "execution_count": null,
   "id": "969f982e-ba75-4357-878a-7f556a923497",
   "metadata": {},
   "outputs": [],
   "source": []
  }
 ],
 "metadata": {
  "kernelspec": {
   "display_name": "Python 3 (ipykernel)",
   "language": "python",
   "name": "python3"
  },
  "language_info": {
   "codemirror_mode": {
    "name": "ipython",
    "version": 3
   },
   "file_extension": ".py",
   "mimetype": "text/x-python",
   "name": "python",
   "nbconvert_exporter": "python",
   "pygments_lexer": "ipython3",
   "version": "3.12.6"
  }
 },
 "nbformat": 4,
 "nbformat_minor": 5
}
